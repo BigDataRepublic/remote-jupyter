{
 "cells": [
  {
   "cell_type": "markdown",
   "metadata": {},
   "source": [
    "Event to action list mapping\n",
    "========\n",
    "Idea: map all events to a list of possible actions.\n",
    "\n",
    "Pic a random element from the list of possible actions as the next action at an event.\n",
    "\n",
    "If the load of the elevator increases and then drops again, our last action was a good one and we increase\n",
    "the chance by adding it to the list of possible actions again"
   ]
  },
  {
   "cell_type": "code",
   "execution_count": null,
   "metadata": {
    "collapsed": false
   },
   "outputs": [],
   "source": [
    "import remotejupyter\n",
    "if not \"remote\" in locals():\n",
    "    remote = remotejupyter.startServer()"
   ]
  },
  {
   "cell_type": "markdown",
   "metadata": {},
   "source": [
    "Saga code\n",
    "=====\n",
    "\n",
    "    {\n",
    "        init: function(elevators, floors) {\n",
    "            var gameState = {\n",
    "                'elevatorplanning': []\n",
    "            };\n",
    "\n",
    "\n",
    "\n",
    "            $.ajaxSetup({\n",
    "                url: \"http://localhost:5000/\",\n",
    "                type: \"POST\",\n",
    "                contentType: 'application/json; charset=UTF-8',\n",
    "                processData: false,\n",
    "                dataType: 'json'\n",
    "            });\n",
    "            function pushGameState() {\n",
    "                $.ajax({data: JSON.stringify(gameState), success: function (actions) {\n",
    "                    _.forEach(actions, function(action) {\n",
    "                        console.log(\"Going to \", action);\n",
    "                        eval(action);\n",
    "                    })\n",
    "                }});\n",
    "            }\n",
    "            $.ajax({data: JSON.stringify({\n",
    "                'world': {'nElevators': elevators.length, 'nFloors': floors.length}\n",
    "            })})\n",
    "            _.forEach(elevators, function(ev, idx){\n",
    "               gameState.elevatorplanning.push(new Array(floors.length)); \n",
    "\n",
    "               ev.on(\"floor_button_pressed\", function(floorNum){\n",
    "                   gameState.elevatorplanning[idx][floorNum] = true;\n",
    "                   pushGameState();\n",
    "                });\n",
    "               ev.on(\"stopped_at_floor\", function(floorNum){\n",
    "                   gameState.elevatorplanning[idx][floorNum] = false; \n",
    "                   pushGameState();\n",
    "               });\n",
    "            });\n",
    "\n",
    "        },\n",
    "        update: function(dt, elevators, floors) {\n",
    "        }\n",
    "    }"
   ]
  },
  {
   "cell_type": "code",
   "execution_count": null,
   "metadata": {
    "collapsed": true
   },
   "outputs": [],
   "source": [
    "#List of all possible actions\n",
    "actions = []\n",
    "eventActionMapping = {}\n",
    "actionHistory = []\n",
    "loadFactorHistory = []"
   ]
  },
  {
   "cell_type": "code",
   "execution_count": null,
   "metadata": {
    "collapsed": true
   },
   "outputs": [],
   "source": [
    "def nub(l):\n",
    "    last = None\n",
    "    for el in l:\n",
    "        if el != last:\n",
    "            yield el\n",
    "            last = el\n",
    "def perThree(l):\n",
    "    three = [0, 0, 0]\n",
    "    for el in l:\n",
    "        three.append(el)\n",
    "        three.pop(0)\n",
    "        yield three"
   ]
  },
  {
   "cell_type": "code",
   "execution_count": null,
   "metadata": {
    "collapsed": false
   },
   "outputs": [],
   "source": [
    "def lastElevatorBehaviour(loadFactors):\n",
    "    '''Return the loadfactor changes of all elevators'''\n",
    "    nElevators = len(loadFactors[0])\n",
    "    transposed = [[row[evIdx] for row in loadFactors] for evIdx in range(nElevators)]\n",
    "    def loadStateChangeClassification(history):\n",
    "        for moment in perThree(nub(history)):\n",
    "            pass\n",
    "        if moment[1] > moment[0] and moment[2] < moment[1]:\n",
    "            return 1\n",
    "        return 0\n",
    "        \n",
    "    return map(loadStateChangeClassification, transposed)        \n",
    "    \n",
    "if len(loadFactorHistory):\n",
    "    #Run test\n",
    "    list(lastElevatorBehaviour(loadFactorHistory))"
   ]
  },
  {
   "cell_type": "code",
   "execution_count": null,
   "metadata": {
    "collapsed": false
   },
   "outputs": [],
   "source": [
    "def collapseEventActionMapping(uncollapsed):\n",
    "    '''Remove the maximum amount of duplicates for each action in each event listing'''\n",
    "    collapsedMapping = {k: [] for k in uncollapsed}\n",
    "    for event, actions in uncollapsed.items():\n",
    "        unique = set(actions)\n",
    "        counts = {u : actions.count(u) for u in unique}\n",
    "        base = min(counts.values())\n",
    "        for k, v in counts.items():\n",
    "            collapsedMapping[event].extend(list([k] * (1 + v - base)))\n",
    "    return collapsedMapping\n",
    "#collapseEventActionMapping(eventActionMapping)"
   ]
  },
  {
   "cell_type": "code",
   "execution_count": null,
   "metadata": {
    "collapsed": false
   },
   "outputs": [],
   "source": [
    "import random\n",
    "def handleState(msg):\n",
    "    global actions, eventActionMapping, loadFactorHistory\n",
    "    \n",
    "    if 'world' in msg:\n",
    "        if len(actions) == 0:\n",
    "            #Set up all possible actions\n",
    "            for ev in range(0, msg['world']['nElevators']):\n",
    "                for f in range(0, msg['world']['nFloors']):\n",
    "                    actions.append(\"elevators[%i].goToFloor(%i)\" % (ev, f))\n",
    "        #Optimize previous eventActionMapping arrays\n",
    "        eventActionMapping = collapseEventActionMapping(eventActionMapping)\n",
    "        return []\n",
    "    \n",
    "    if 'loadFactors' in msg:\n",
    "        loadFactorHistory.append(msg['loadFactors'])\n",
    "        for idx, elevatorEvaluation in enumerate(lastElevatorBehaviour(loadFactorHistory)):\n",
    "            if elevatorEvaluation > 0:\n",
    "                for event in reversed(actionHistory):\n",
    "                    if len(eventActionMapping[event[0]]) > 0 and ('elevators[%i]' % idx) in event[1]:\n",
    "                        if eventActionMapping[event[0]][-1] != event[1]:\n",
    "                            eventActionMapping[event[0]].append(event[1])\n",
    "        return []\n",
    "    \n",
    "    #msg is some kind of actionable event\n",
    "    msgIdent = ','.join([str(e) for e in msg])\n",
    "    if not msgIdent in eventActionMapping:\n",
    "        eventActionMapping[msgIdent] = list(actions)\n",
    "    \n",
    "    action = random.sample(eventActionMapping[msgIdent], 1)\n",
    "    actionHistory.append([msgIdent, action[0]])\n",
    "    return action\n"
   ]
  },
  {
   "cell_type": "code",
   "execution_count": null,
   "metadata": {
    "collapsed": false
   },
   "outputs": [],
   "source": [
    "remote.put(handleState)"
   ]
  },
  {
   "cell_type": "code",
   "execution_count": null,
   "metadata": {
    "collapsed": false
   },
   "outputs": [],
   "source": [
    "eventActionMapping"
   ]
  },
  {
   "cell_type": "code",
   "execution_count": null,
   "metadata": {
    "collapsed": true
   },
   "outputs": [],
   "source": []
  }
 ],
 "metadata": {
  "kernelspec": {
   "display_name": "Python 3",
   "language": "python",
   "name": "python3"
  },
  "language_info": {
   "codemirror_mode": {
    "name": "ipython",
    "version": 3
   },
   "file_extension": ".py",
   "mimetype": "text/x-python",
   "name": "python",
   "nbconvert_exporter": "python",
   "pygments_lexer": "ipython3",
   "version": "3.6.0"
  }
 },
 "nbformat": 4,
 "nbformat_minor": 2
}
