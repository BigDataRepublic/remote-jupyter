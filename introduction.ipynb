{
 "cells": [
  {
   "cell_type": "code",
   "execution_count": null,
   "metadata": {
    "collapsed": false
   },
   "outputs": [],
   "source": [
    "import remotejupyter"
   ]
  },
  {
   "cell_type": "code",
   "execution_count": null,
   "metadata": {
    "collapsed": false
   },
   "outputs": [],
   "source": [
    "if not \"remote\" in locals():\n",
    "    remote = remotejupyter.startServer()"
   ]
  },
  {
   "cell_type": "markdown",
   "metadata": {
    "collapsed": false
   },
   "source": [
    "Example 1\n",
    "======\n",
    "Send the elevator to a random floor generated from Python. Use the following code over at http://play.elevatorsaga.com/\n",
    "\n",
    "\n",
    "    {\n",
    "        init: function(elevators, floors) {\n",
    "            var elevator = elevators[0]; // Let's use the first elevator\n",
    "\n",
    "            // Whenever the elevator is idle (has no more queued destinations) ...\n",
    "            elevator.on(\"idle\", function() {\n",
    "                $.post(\"http://localhost:5000\", JSON.stringify({\"elevatorIdle\": 0}), function (result) {\n",
    "                    if (result['goToFloor'] !== undefined) {\n",
    "                        elevator.goToFloor(result['goToFloor'])\n",
    "                    }\n",
    "                })\n",
    "           });\n",
    "        },\n",
    "        update: function(dt, elevators, floors) {\n",
    "            // We normally don't need to do anything here\n",
    "        }\n",
    "    }\n"
   ]
  },
  {
   "cell_type": "code",
   "execution_count": null,
   "metadata": {
    "collapsed": false
   },
   "outputs": [],
   "source": [
    "import random\n",
    "def handle(request):\n",
    "    if 'elevatorIdle' in request:\n",
    "        return {'goToFloor': random.randint(0,2)}\n",
    "    return {}\n",
    "remote.put(handle)"
   ]
  },
  {
   "cell_type": "markdown",
   "metadata": {
    "collapsed": true
   },
   "source": [
    "Do some more general jQuery setup\n",
    "----------\n",
    "To make the jquery calls a bit more terse, we set default jquery parameters\n",
    "\n",
    "    {\n",
    "        init: function(elevators, floors) {\n",
    "            $.ajaxSetup({\n",
    "                url: \"http://localhost:5000/\",\n",
    "                type: \"POST\",\n",
    "                contentType: 'json',\n",
    "                processData: false,\n",
    "                dataType: 'json'\n",
    "            });\n",
    "            _.forEach(elevators, function(ev, idx){\n",
    "                ev.on(\"idle\", function(){\n",
    "                    $.ajax({data: {'elevatorIdle': idx}, success: function (result) {\n",
    "                        if(result['goToFloor'] !== undefined) {\n",
    "                            ev.goToFloor(result['goToFloor'])\n",
    "                        }\n",
    "                    }});\n",
    "                })\n",
    "            })\n",
    "\n",
    "        },\n",
    "        update: function(dt, elevators, floors) {\n",
    "        }\n",
    "    }\n"
   ]
  },
  {
   "cell_type": "code",
   "execution_count": null,
   "metadata": {
    "collapsed": true
   },
   "outputs": [],
   "source": []
  }
 ],
 "metadata": {
  "kernelspec": {
   "display_name": "Python 3",
   "language": "python",
   "name": "python3"
  },
  "language_info": {
   "codemirror_mode": {
    "name": "ipython",
    "version": 3
   },
   "file_extension": ".py",
   "mimetype": "text/x-python",
   "name": "python",
   "nbconvert_exporter": "python",
   "pygments_lexer": "ipython3",
   "version": "3.6.0"
  }
 },
 "nbformat": 4,
 "nbformat_minor": 2
}
